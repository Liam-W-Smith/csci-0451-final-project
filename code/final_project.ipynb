{
 "cells": [
  {
   "cell_type": "markdown",
   "metadata": {},
   "source": [
    "## Data Preparation\n",
    "First we import our necessary libraries"
   ]
  },
  {
   "cell_type": "code",
   "execution_count": null,
   "metadata": {},
   "outputs": [],
   "source": [
    "%%script echo skipping # Comment this line out if you want to install these packages\n",
    "!pip install pygris\n",
    "!pip install folium"
   ]
  },
  {
   "cell_type": "code",
   "execution_count": 20,
   "metadata": {},
   "outputs": [
    {
     "name": "stdout",
     "output_type": "stream",
     "text": [
      "The autoreload extension is already loaded. To reload it, use:\n",
      "  %reload_ext autoreload\n"
     ]
    }
   ],
   "source": [
    "# Load packages\n",
    "%load_ext autoreload\n",
    "%autoreload 2\n",
    "import pygris\n",
    "from pygris import tracts\n",
    "from matplotlib import pyplot as plt\n",
    "import pandas as pd\n",
    "import folium\n",
    "import numpy as np\n",
    "import torch\n",
    "from linear_regression import RidgeRegression"
   ]
  },
  {
   "cell_type": "markdown",
   "metadata": {},
   "source": [
    "# Starting up \n",
    "As a test of concept, lets utilize the pygris library to access the CT tracts information and then let's do a simple plot to ensure it's correct."
   ]
  },
  {
   "cell_type": "code",
   "execution_count": null,
   "metadata": {},
   "outputs": [],
   "source": [
    "# Download geometry\n",
    "ct_tracts = tracts(state = \"CT\", cb = True, cache = True, year = 2016)\n",
    "\n",
    "# Display geometry\n",
    "fig, ax = plt.subplots()\n",
    "ct_tracts.plot(ax = ax)\n",
    "plt.title(\"Tracts Cartographic Boundaries\");"
   ]
  },
  {
   "cell_type": "markdown",
   "metadata": {},
   "source": [
    "## Graphing Pop-Density\n",
    "Before we begin our journey into zonal statistics and eventually creating a predictive model, we first want to understand what the population density looks like in Connecticut. We have some general hypotheses that the areas around New Haven and Hartford are going to have higher amounts of population, and we also expect to see some small pockets of communities around Connecticut."
   ]
  },
  {
   "cell_type": "code",
   "execution_count": null,
   "metadata": {},
   "outputs": [],
   "source": [
    "# Import tracts population data\n",
    "pop = pd.read_csv(\"../data/population.csv\")\n",
    "\n",
    "# Convert data type so join key matches\n",
    "ct_tracts[\"Geo_TRACT\"] = ct_tracts[\"TRACTCE\"].astype(int)\n",
    "\n",
    "# Join attributes to geometry\n",
    "tracts = ct_tracts.merge(pop, how = \"inner\", on='Geo_TRACT')"
   ]
  },
  {
   "cell_type": "markdown",
   "metadata": {},
   "source": [
    "### Once we have our tracts, we then calculate pop density and graph "
   ]
  },
  {
   "cell_type": "code",
   "execution_count": null,
   "metadata": {},
   "outputs": [],
   "source": [
    "# Project tracts\n",
    "tracts = tracts.to_crs(\"EPSG:3857\")\n",
    "\n",
    "# Calculate area in KM\n",
    "tracts[\"Area\"] = tracts.area/1000**2\n",
    "\n",
    "# Calculate population density\n",
    "tracts[\"PopDensity\"] = tracts[\"SE_A00001_001\"]/tracts[\"Area\"]"
   ]
  },
  {
   "cell_type": "code",
   "execution_count": null,
   "metadata": {},
   "outputs": [],
   "source": [
    "tracts.plot(\"PopDensity\", legend = True);"
   ]
  },
  {
   "cell_type": "markdown",
   "metadata": {},
   "source": [
    "## **maybe here we add some enlightening information about our tracts dataframe, otherwise we can remove the code cell above**"
   ]
  },
  {
   "cell_type": "markdown",
   "metadata": {},
   "source": [
    "## Intro to Zonal Statistics\n",
    "We are going to do quite a bit here which is being abstracted away by the [`rasterio`](https://pypi.org/project/rasterio/) package. First and foremost, we are going to load in our landcover data from [CONUS](https://www.ncei.noaa.gov/products/satellite/gridded-goes-conus) which is created from satellite date of the Continental United States.\n",
    "\n",
    "This data comes in the form of a `.tif` file which is a filetype used for storing geographic satellite data.\n",
    "\n",
    "The goal of zonal statistics here is relatively straightforward, we are going to do some math that involves the pixels in a given geographic satellite image. Each pixel has an associated number which itself is associated with a key. Each pixel is contained in a \"tract\" which is a measurement of land by the US Census. We perform mathematics like finding the mean type of pixel in a given area, the max, the minimum, etc. This arithmetic is handled by the [`rasterstats`](https://pythonhosted.org/rasterstats/) package."
   ]
  },
  {
   "cell_type": "code",
   "execution_count": null,
   "metadata": {},
   "outputs": [],
   "source": [
    "!pip install rasterio\n",
    "import rasterio"
   ]
  },
  {
   "cell_type": "markdown",
   "metadata": {},
   "source": [
    "### First steps \n",
    "Here we open our path to our file, and more importantly, we set up our data to be used in zonal statistics. `.read` turns our data into a Numpy Array. Following this we are going to `.transform` our data, which means we are going to take the pixel locations of our coordinates (row col) and map them to our spatial coordinates (x, y). These coordinate values are relative to the [CRS](https://www.ncei.noaa.gov/products/satellite/gridded-goes-conus) (Coordinate Reference System) which we defined earlier as **\"EPSG:2234\"**"
   ]
  },
  {
   "cell_type": "code",
   "execution_count": null,
   "metadata": {},
   "outputs": [],
   "source": [
    "#the data can be accessed from https://coastalimagery.blob.core.windows.net/ccap-landcover/CCAP_bulk_download/High_Resolution_Land_Cover/Phase_2_Expanded_Categories/Legacy_Land_Cover_pre_2024/CONUS/ct_2016_ccap_hires_landcover_20200915.zip\n",
    "raster_path = '../data/ct_2016_ccap_hires_landcover_20200915.tif'\n",
    "landcover = rasterio.open(raster_path)\n",
    "arr = landcover.read(1)\n",
    "affine = landcover.transform"
   ]
  },
  {
   "cell_type": "markdown",
   "metadata": {},
   "source": [
    "### Performing Zonal statistics\n",
    "It's as simple as importing rasterstats. We have handled the important data manipulation, and now it's basically plug and play! One function to note is `.to_crs` which takes in given coordinate reference system and transforms all the points in our dataframe to match that system."
   ]
  },
  {
   "cell_type": "code",
   "execution_count": null,
   "metadata": {},
   "outputs": [],
   "source": [
    "#!pip install rasterstats\n",
    "\n",
    "from rasterstats import zonal_stats\n",
    "\n",
    "# Here is where we ensure our tracts CRS is the same as our landcover CRS\n",
    "zone = tracts.to_crs(landcover.crs)\n",
    "stats = zonal_stats(zone, arr, affine=affine)"
   ]
  },
  {
   "cell_type": "markdown",
   "metadata": {},
   "source": [
    "## BOOM \n",
    "We did it! Taking a look at our dataframe we can see what this basic zonal statistics calculated the min, max, mean, and amount of pixels in the tract"
   ]
  },
  {
   "cell_type": "code",
   "execution_count": null,
   "metadata": {},
   "outputs": [],
   "source": [
    "df = pd.DataFrame(stats)\n",
    "df"
   ]
  },
  {
   "cell_type": "markdown",
   "metadata": {},
   "source": [
    "## Advanced Zonal Statistics\n",
    "The `rasterstats` library is very good at getting information from rasters, and we can in fact gain more information by using `categorical = True`. This allows to see the amount of each type of pixel at a given tract."
   ]
  },
  {
   "cell_type": "code",
   "execution_count": null,
   "metadata": {},
   "outputs": [],
   "source": [
    "from rasterstats import zonal_stats\n",
    "df_new = zonal_stats(zone, arr, affine=affine, categorical = True)"
   ]
  },
  {
   "cell_type": "markdown",
   "metadata": {},
   "source": [
    "Taking a look at our dataframe, we can confirm that each column is a type of pixel and each row is a tract"
   ]
  },
  {
   "cell_type": "code",
   "execution_count": null,
   "metadata": {},
   "outputs": [],
   "source": [
    "df_categorical = pd.DataFrame(df_new)\n",
    "df_categorical"
   ]
  },
  {
   "cell_type": "markdown",
   "metadata": {},
   "source": [
    "## Visualizing Zonal Stats\n",
    "Now that we have information on the amount of each pixel at a given tract, we can find the most common pixel per tract by using the function `.idxmax()` which will through each row and find the column with the largest value."
   ]
  },
  {
   "cell_type": "code",
   "execution_count": null,
   "metadata": {},
   "outputs": [],
   "source": [
    "df_categorical['max_type'] = df_categorical.idxmax(axis=1)\n",
    "combined_df = pd.concat([tracts, df_categorical], axis=1)\n",
    "combined_df['max_type'] = combined_df['max_type'].astype(str)"
   ]
  },
  {
   "cell_type": "code",
   "execution_count": null,
   "metadata": {},
   "outputs": [],
   "source": [
    "combined_df.plot(\"max_type\", legend = True);"
   ]
  },
  {
   "cell_type": "code",
   "execution_count": null,
   "metadata": {},
   "outputs": [],
   "source": [
    "combined_df[\"geometry\"]"
   ]
  },
  {
   "cell_type": "markdown",
   "metadata": {},
   "source": [
    "### Saving this data\n",
    "These statistics took quite a while to run, and it may be beneficial to save this data as a csv to continue running statistics in the future"
   ]
  },
  {
   "cell_type": "code",
   "execution_count": null,
   "metadata": {},
   "outputs": [],
   "source": [
    "%%script echo skipping\n",
    "\n",
    "combined_df.to_csv('../data/combined_data.csv', index=False)"
   ]
  },
  {
   "cell_type": "markdown",
   "metadata": {},
   "source": [
    "## Fitting a Regression Model\n",
    "\n",
    "First, we import our data."
   ]
  },
  {
   "cell_type": "code",
   "execution_count": 2,
   "metadata": {},
   "outputs": [
    {
     "data": {
      "text/html": [
       "<div>\n",
       "<style scoped>\n",
       "    .dataframe tbody tr th:only-of-type {\n",
       "        vertical-align: middle;\n",
       "    }\n",
       "\n",
       "    .dataframe tbody tr th {\n",
       "        vertical-align: top;\n",
       "    }\n",
       "\n",
       "    .dataframe thead th {\n",
       "        text-align: right;\n",
       "    }\n",
       "</style>\n",
       "<table border=\"1\" class=\"dataframe\">\n",
       "  <thead>\n",
       "    <tr style=\"text-align: right;\">\n",
       "      <th></th>\n",
       "      <th>STATEFP</th>\n",
       "      <th>COUNTYFP</th>\n",
       "      <th>TRACTCE</th>\n",
       "      <th>AFFGEOID</th>\n",
       "      <th>GEOID</th>\n",
       "      <th>NAME</th>\n",
       "      <th>LSAD</th>\n",
       "      <th>ALAND</th>\n",
       "      <th>AWATER</th>\n",
       "      <th>geometry</th>\n",
       "      <th>...</th>\n",
       "      <th>18</th>\n",
       "      <th>19</th>\n",
       "      <th>20</th>\n",
       "      <th>21</th>\n",
       "      <th>22</th>\n",
       "      <th>7</th>\n",
       "      <th>6</th>\n",
       "      <th>0</th>\n",
       "      <th>23</th>\n",
       "      <th>max_type</th>\n",
       "    </tr>\n",
       "  </thead>\n",
       "  <tbody>\n",
       "    <tr>\n",
       "      <th>0</th>\n",
       "      <td>9</td>\n",
       "      <td>1</td>\n",
       "      <td>11000</td>\n",
       "      <td>1400000US09001011000</td>\n",
       "      <td>9001011000</td>\n",
       "      <td>110.0</td>\n",
       "      <td>CT</td>\n",
       "      <td>4473567</td>\n",
       "      <td>3841130</td>\n",
       "      <td>POLYGON ((768806.438288436 564631.1307186291, ...</td>\n",
       "      <td>...</td>\n",
       "      <td>136572.0</td>\n",
       "      <td>423692.0</td>\n",
       "      <td>142589.0</td>\n",
       "      <td>1378858.0</td>\n",
       "      <td>NaN</td>\n",
       "      <td>NaN</td>\n",
       "      <td>NaN</td>\n",
       "      <td>NaN</td>\n",
       "      <td>NaN</td>\n",
       "      <td>2</td>\n",
       "    </tr>\n",
       "    <tr>\n",
       "      <th>1</th>\n",
       "      <td>9</td>\n",
       "      <td>1</td>\n",
       "      <td>20800</td>\n",
       "      <td>1400000US09001020800</td>\n",
       "      <td>9001020800</td>\n",
       "      <td>208.0</td>\n",
       "      <td>CT</td>\n",
       "      <td>2315472</td>\n",
       "      <td>0</td>\n",
       "      <td>POLYGON ((779750.7629708104 593331.0275135201,...</td>\n",
       "      <td>...</td>\n",
       "      <td>NaN</td>\n",
       "      <td>NaN</td>\n",
       "      <td>27939.0</td>\n",
       "      <td>NaN</td>\n",
       "      <td>NaN</td>\n",
       "      <td>NaN</td>\n",
       "      <td>NaN</td>\n",
       "      <td>NaN</td>\n",
       "      <td>NaN</td>\n",
       "      <td>11</td>\n",
       "    </tr>\n",
       "    <tr>\n",
       "      <th>2</th>\n",
       "      <td>9</td>\n",
       "      <td>1</td>\n",
       "      <td>21400</td>\n",
       "      <td>1400000US09001021400</td>\n",
       "      <td>9001021400</td>\n",
       "      <td>214.0</td>\n",
       "      <td>CT</td>\n",
       "      <td>1640443</td>\n",
       "      <td>0</td>\n",
       "      <td>POLYGON ((774314.4774130288 583462.5078830764,...</td>\n",
       "      <td>...</td>\n",
       "      <td>NaN</td>\n",
       "      <td>NaN</td>\n",
       "      <td>13728.0</td>\n",
       "      <td>NaN</td>\n",
       "      <td>NaN</td>\n",
       "      <td>NaN</td>\n",
       "      <td>NaN</td>\n",
       "      <td>NaN</td>\n",
       "      <td>NaN</td>\n",
       "      <td>2</td>\n",
       "    </tr>\n",
       "    <tr>\n",
       "      <th>3</th>\n",
       "      <td>9</td>\n",
       "      <td>1</td>\n",
       "      <td>22200</td>\n",
       "      <td>1400000US09001022200</td>\n",
       "      <td>9001022200</td>\n",
       "      <td>222.0</td>\n",
       "      <td>CT</td>\n",
       "      <td>1442382</td>\n",
       "      <td>117063</td>\n",
       "      <td>POLYGON ((780699.029105046 578728.3344804952, ...</td>\n",
       "      <td>...</td>\n",
       "      <td>NaN</td>\n",
       "      <td>20584.0</td>\n",
       "      <td>80161.0</td>\n",
       "      <td>99956.0</td>\n",
       "      <td>NaN</td>\n",
       "      <td>NaN</td>\n",
       "      <td>NaN</td>\n",
       "      <td>NaN</td>\n",
       "      <td>NaN</td>\n",
       "      <td>2</td>\n",
       "    </tr>\n",
       "    <tr>\n",
       "      <th>4</th>\n",
       "      <td>9</td>\n",
       "      <td>1</td>\n",
       "      <td>43100</td>\n",
       "      <td>1400000US09001043100</td>\n",
       "      <td>9001043100</td>\n",
       "      <td>431.0</td>\n",
       "      <td>CT</td>\n",
       "      <td>6652660</td>\n",
       "      <td>58522</td>\n",
       "      <td>POLYGON ((801316.652144019 604980.2196045901, ...</td>\n",
       "      <td>...</td>\n",
       "      <td>NaN</td>\n",
       "      <td>NaN</td>\n",
       "      <td>9940.0</td>\n",
       "      <td>68655.0</td>\n",
       "      <td>486.0</td>\n",
       "      <td>NaN</td>\n",
       "      <td>NaN</td>\n",
       "      <td>NaN</td>\n",
       "      <td>NaN</td>\n",
       "      <td>11</td>\n",
       "    </tr>\n",
       "  </tbody>\n",
       "</table>\n",
       "<p>5 rows × 87 columns</p>\n",
       "</div>"
      ],
      "text/plain": [
       "   STATEFP  COUNTYFP  TRACTCE              AFFGEOID       GEOID   NAME LSAD  \\\n",
       "0        9         1    11000  1400000US09001011000  9001011000  110.0   CT   \n",
       "1        9         1    20800  1400000US09001020800  9001020800  208.0   CT   \n",
       "2        9         1    21400  1400000US09001021400  9001021400  214.0   CT   \n",
       "3        9         1    22200  1400000US09001022200  9001022200  222.0   CT   \n",
       "4        9         1    43100  1400000US09001043100  9001043100  431.0   CT   \n",
       "\n",
       "     ALAND   AWATER                                           geometry  ...  \\\n",
       "0  4473567  3841130  POLYGON ((768806.438288436 564631.1307186291, ...  ...   \n",
       "1  2315472        0  POLYGON ((779750.7629708104 593331.0275135201,...  ...   \n",
       "2  1640443        0  POLYGON ((774314.4774130288 583462.5078830764,...  ...   \n",
       "3  1442382   117063  POLYGON ((780699.029105046 578728.3344804952, ...  ...   \n",
       "4  6652660    58522  POLYGON ((801316.652144019 604980.2196045901, ...  ...   \n",
       "\n",
       "         18        19        20         21     22   7   6   0  23  max_type  \n",
       "0  136572.0  423692.0  142589.0  1378858.0    NaN NaN NaN NaN NaN         2  \n",
       "1       NaN       NaN   27939.0        NaN    NaN NaN NaN NaN NaN        11  \n",
       "2       NaN       NaN   13728.0        NaN    NaN NaN NaN NaN NaN         2  \n",
       "3       NaN   20584.0   80161.0    99956.0    NaN NaN NaN NaN NaN         2  \n",
       "4       NaN       NaN    9940.0    68655.0  486.0 NaN NaN NaN NaN        11  \n",
       "\n",
       "[5 rows x 87 columns]"
      ]
     },
     "execution_count": 2,
     "metadata": {},
     "output_type": "execute_result"
    }
   ],
   "source": [
    "# Import and display data\n",
    "data = pd.read_csv(\"../data/combined_data.csv\")\n",
    "data.head()"
   ]
  },
  {
   "cell_type": "markdown",
   "metadata": {},
   "source": [
    "Looks like there is some missing data in tracts that contain no pixels of a certain class.\n",
    "Let's impute 0 for all `NaN` values."
   ]
  },
  {
   "cell_type": "code",
   "execution_count": 3,
   "metadata": {},
   "outputs": [
    {
     "name": "stdout",
     "output_type": "stream",
     "text": [
      "Before imputation, there were 5774 NaN values.\n",
      "After imputation, there are 0 NaN values.\n"
     ]
    },
    {
     "data": {
      "text/html": [
       "<div>\n",
       "<style scoped>\n",
       "    .dataframe tbody tr th:only-of-type {\n",
       "        vertical-align: middle;\n",
       "    }\n",
       "\n",
       "    .dataframe tbody tr th {\n",
       "        vertical-align: top;\n",
       "    }\n",
       "\n",
       "    .dataframe thead th {\n",
       "        text-align: right;\n",
       "    }\n",
       "</style>\n",
       "<table border=\"1\" class=\"dataframe\">\n",
       "  <thead>\n",
       "    <tr style=\"text-align: right;\">\n",
       "      <th></th>\n",
       "      <th>STATEFP</th>\n",
       "      <th>COUNTYFP</th>\n",
       "      <th>TRACTCE</th>\n",
       "      <th>AFFGEOID</th>\n",
       "      <th>GEOID</th>\n",
       "      <th>NAME</th>\n",
       "      <th>LSAD</th>\n",
       "      <th>ALAND</th>\n",
       "      <th>AWATER</th>\n",
       "      <th>geometry</th>\n",
       "      <th>...</th>\n",
       "      <th>18</th>\n",
       "      <th>19</th>\n",
       "      <th>20</th>\n",
       "      <th>21</th>\n",
       "      <th>22</th>\n",
       "      <th>7</th>\n",
       "      <th>6</th>\n",
       "      <th>0</th>\n",
       "      <th>23</th>\n",
       "      <th>max_type</th>\n",
       "    </tr>\n",
       "  </thead>\n",
       "  <tbody>\n",
       "    <tr>\n",
       "      <th>0</th>\n",
       "      <td>9</td>\n",
       "      <td>1</td>\n",
       "      <td>11000</td>\n",
       "      <td>1400000US09001011000</td>\n",
       "      <td>9001011000</td>\n",
       "      <td>110.0</td>\n",
       "      <td>CT</td>\n",
       "      <td>4473567</td>\n",
       "      <td>3841130</td>\n",
       "      <td>POLYGON ((768806.438288436 564631.1307186291, ...</td>\n",
       "      <td>...</td>\n",
       "      <td>136572.0</td>\n",
       "      <td>423692.0</td>\n",
       "      <td>142589.0</td>\n",
       "      <td>1378858.0</td>\n",
       "      <td>0.0</td>\n",
       "      <td>0.0</td>\n",
       "      <td>0.0</td>\n",
       "      <td>0.0</td>\n",
       "      <td>0.0</td>\n",
       "      <td>2</td>\n",
       "    </tr>\n",
       "    <tr>\n",
       "      <th>1</th>\n",
       "      <td>9</td>\n",
       "      <td>1</td>\n",
       "      <td>20800</td>\n",
       "      <td>1400000US09001020800</td>\n",
       "      <td>9001020800</td>\n",
       "      <td>208.0</td>\n",
       "      <td>CT</td>\n",
       "      <td>2315472</td>\n",
       "      <td>0</td>\n",
       "      <td>POLYGON ((779750.7629708104 593331.0275135201,...</td>\n",
       "      <td>...</td>\n",
       "      <td>0.0</td>\n",
       "      <td>0.0</td>\n",
       "      <td>27939.0</td>\n",
       "      <td>0.0</td>\n",
       "      <td>0.0</td>\n",
       "      <td>0.0</td>\n",
       "      <td>0.0</td>\n",
       "      <td>0.0</td>\n",
       "      <td>0.0</td>\n",
       "      <td>11</td>\n",
       "    </tr>\n",
       "    <tr>\n",
       "      <th>2</th>\n",
       "      <td>9</td>\n",
       "      <td>1</td>\n",
       "      <td>21400</td>\n",
       "      <td>1400000US09001021400</td>\n",
       "      <td>9001021400</td>\n",
       "      <td>214.0</td>\n",
       "      <td>CT</td>\n",
       "      <td>1640443</td>\n",
       "      <td>0</td>\n",
       "      <td>POLYGON ((774314.4774130288 583462.5078830764,...</td>\n",
       "      <td>...</td>\n",
       "      <td>0.0</td>\n",
       "      <td>0.0</td>\n",
       "      <td>13728.0</td>\n",
       "      <td>0.0</td>\n",
       "      <td>0.0</td>\n",
       "      <td>0.0</td>\n",
       "      <td>0.0</td>\n",
       "      <td>0.0</td>\n",
       "      <td>0.0</td>\n",
       "      <td>2</td>\n",
       "    </tr>\n",
       "    <tr>\n",
       "      <th>3</th>\n",
       "      <td>9</td>\n",
       "      <td>1</td>\n",
       "      <td>22200</td>\n",
       "      <td>1400000US09001022200</td>\n",
       "      <td>9001022200</td>\n",
       "      <td>222.0</td>\n",
       "      <td>CT</td>\n",
       "      <td>1442382</td>\n",
       "      <td>117063</td>\n",
       "      <td>POLYGON ((780699.029105046 578728.3344804952, ...</td>\n",
       "      <td>...</td>\n",
       "      <td>0.0</td>\n",
       "      <td>20584.0</td>\n",
       "      <td>80161.0</td>\n",
       "      <td>99956.0</td>\n",
       "      <td>0.0</td>\n",
       "      <td>0.0</td>\n",
       "      <td>0.0</td>\n",
       "      <td>0.0</td>\n",
       "      <td>0.0</td>\n",
       "      <td>2</td>\n",
       "    </tr>\n",
       "    <tr>\n",
       "      <th>4</th>\n",
       "      <td>9</td>\n",
       "      <td>1</td>\n",
       "      <td>43100</td>\n",
       "      <td>1400000US09001043100</td>\n",
       "      <td>9001043100</td>\n",
       "      <td>431.0</td>\n",
       "      <td>CT</td>\n",
       "      <td>6652660</td>\n",
       "      <td>58522</td>\n",
       "      <td>POLYGON ((801316.652144019 604980.2196045901, ...</td>\n",
       "      <td>...</td>\n",
       "      <td>0.0</td>\n",
       "      <td>0.0</td>\n",
       "      <td>9940.0</td>\n",
       "      <td>68655.0</td>\n",
       "      <td>486.0</td>\n",
       "      <td>0.0</td>\n",
       "      <td>0.0</td>\n",
       "      <td>0.0</td>\n",
       "      <td>0.0</td>\n",
       "      <td>11</td>\n",
       "    </tr>\n",
       "  </tbody>\n",
       "</table>\n",
       "<p>5 rows × 87 columns</p>\n",
       "</div>"
      ],
      "text/plain": [
       "   STATEFP  COUNTYFP  TRACTCE              AFFGEOID       GEOID   NAME LSAD  \\\n",
       "0        9         1    11000  1400000US09001011000  9001011000  110.0   CT   \n",
       "1        9         1    20800  1400000US09001020800  9001020800  208.0   CT   \n",
       "2        9         1    21400  1400000US09001021400  9001021400  214.0   CT   \n",
       "3        9         1    22200  1400000US09001022200  9001022200  222.0   CT   \n",
       "4        9         1    43100  1400000US09001043100  9001043100  431.0   CT   \n",
       "\n",
       "     ALAND   AWATER                                           geometry  ...  \\\n",
       "0  4473567  3841130  POLYGON ((768806.438288436 564631.1307186291, ...  ...   \n",
       "1  2315472        0  POLYGON ((779750.7629708104 593331.0275135201,...  ...   \n",
       "2  1640443        0  POLYGON ((774314.4774130288 583462.5078830764,...  ...   \n",
       "3  1442382   117063  POLYGON ((780699.029105046 578728.3344804952, ...  ...   \n",
       "4  6652660    58522  POLYGON ((801316.652144019 604980.2196045901, ...  ...   \n",
       "\n",
       "         18        19        20         21     22    7    6    0   23  \\\n",
       "0  136572.0  423692.0  142589.0  1378858.0    0.0  0.0  0.0  0.0  0.0   \n",
       "1       0.0       0.0   27939.0        0.0    0.0  0.0  0.0  0.0  0.0   \n",
       "2       0.0       0.0   13728.0        0.0    0.0  0.0  0.0  0.0  0.0   \n",
       "3       0.0   20584.0   80161.0    99956.0    0.0  0.0  0.0  0.0  0.0   \n",
       "4       0.0       0.0    9940.0    68655.0  486.0  0.0  0.0  0.0  0.0   \n",
       "\n",
       "   max_type  \n",
       "0         2  \n",
       "1        11  \n",
       "2         2  \n",
       "3         2  \n",
       "4        11  \n",
       "\n",
       "[5 rows x 87 columns]"
      ]
     },
     "execution_count": 3,
     "metadata": {},
     "output_type": "execute_result"
    }
   ],
   "source": [
    "# Impute 0 for missing data\n",
    "print(\"Before imputation, there were\", pd.isnull(data.iloc[:,68:-1]).sum().sum(), \"NaN values.\")\n",
    "data[pd.isnull(data.iloc[:,68:-1])] = 0\n",
    "print(\"After imputation, there are\", pd.isnull(data.iloc[:,68:-1]).sum().sum(), \"NaN values.\")\n",
    "data.head()"
   ]
  },
  {
   "cell_type": "markdown",
   "metadata": {},
   "source": [
    "Now that we have complete data, we can calculate the proportion of pixels belonging to each class."
   ]
  },
  {
   "cell_type": "code",
   "execution_count": 4,
   "metadata": {},
   "outputs": [
    {
     "data": {
      "text/html": [
       "<div>\n",
       "<style scoped>\n",
       "    .dataframe tbody tr th:only-of-type {\n",
       "        vertical-align: middle;\n",
       "    }\n",
       "\n",
       "    .dataframe tbody tr th {\n",
       "        vertical-align: top;\n",
       "    }\n",
       "\n",
       "    .dataframe thead th {\n",
       "        text-align: right;\n",
       "    }\n",
       "</style>\n",
       "<table border=\"1\" class=\"dataframe\">\n",
       "  <thead>\n",
       "    <tr style=\"text-align: right;\">\n",
       "      <th></th>\n",
       "      <th>STATEFP</th>\n",
       "      <th>COUNTYFP</th>\n",
       "      <th>TRACTCE</th>\n",
       "      <th>AFFGEOID</th>\n",
       "      <th>GEOID</th>\n",
       "      <th>NAME</th>\n",
       "      <th>LSAD</th>\n",
       "      <th>ALAND</th>\n",
       "      <th>AWATER</th>\n",
       "      <th>geometry</th>\n",
       "      <th>...</th>\n",
       "      <th>19</th>\n",
       "      <th>20</th>\n",
       "      <th>21</th>\n",
       "      <th>22</th>\n",
       "      <th>7</th>\n",
       "      <th>6</th>\n",
       "      <th>0</th>\n",
       "      <th>23</th>\n",
       "      <th>max_type</th>\n",
       "      <th>sum</th>\n",
       "    </tr>\n",
       "  </thead>\n",
       "  <tbody>\n",
       "    <tr>\n",
       "      <th>0</th>\n",
       "      <td>9</td>\n",
       "      <td>1</td>\n",
       "      <td>11000</td>\n",
       "      <td>1400000US09001011000</td>\n",
       "      <td>9001011000</td>\n",
       "      <td>110.0</td>\n",
       "      <td>CT</td>\n",
       "      <td>4473567</td>\n",
       "      <td>3841130</td>\n",
       "      <td>POLYGON ((768806.438288436 564631.1307186291, ...</td>\n",
       "      <td>...</td>\n",
       "      <td>0.069327</td>\n",
       "      <td>0.023331</td>\n",
       "      <td>0.225616</td>\n",
       "      <td>0.000000</td>\n",
       "      <td>0.0</td>\n",
       "      <td>0.0</td>\n",
       "      <td>0.0</td>\n",
       "      <td>0.0</td>\n",
       "      <td>2</td>\n",
       "      <td>6111530.0</td>\n",
       "    </tr>\n",
       "    <tr>\n",
       "      <th>1</th>\n",
       "      <td>9</td>\n",
       "      <td>1</td>\n",
       "      <td>20800</td>\n",
       "      <td>1400000US09001020800</td>\n",
       "      <td>9001020800</td>\n",
       "      <td>208.0</td>\n",
       "      <td>CT</td>\n",
       "      <td>2315472</td>\n",
       "      <td>0</td>\n",
       "      <td>POLYGON ((779750.7629708104 593331.0275135201,...</td>\n",
       "      <td>...</td>\n",
       "      <td>0.000000</td>\n",
       "      <td>0.012054</td>\n",
       "      <td>0.000000</td>\n",
       "      <td>0.000000</td>\n",
       "      <td>0.0</td>\n",
       "      <td>0.0</td>\n",
       "      <td>0.0</td>\n",
       "      <td>0.0</td>\n",
       "      <td>11</td>\n",
       "      <td>2317904.0</td>\n",
       "    </tr>\n",
       "    <tr>\n",
       "      <th>2</th>\n",
       "      <td>9</td>\n",
       "      <td>1</td>\n",
       "      <td>21400</td>\n",
       "      <td>1400000US09001021400</td>\n",
       "      <td>9001021400</td>\n",
       "      <td>214.0</td>\n",
       "      <td>CT</td>\n",
       "      <td>1640443</td>\n",
       "      <td>0</td>\n",
       "      <td>POLYGON ((774314.4774130288 583462.5078830764,...</td>\n",
       "      <td>...</td>\n",
       "      <td>0.000000</td>\n",
       "      <td>0.008350</td>\n",
       "      <td>0.000000</td>\n",
       "      <td>0.000000</td>\n",
       "      <td>0.0</td>\n",
       "      <td>0.0</td>\n",
       "      <td>0.0</td>\n",
       "      <td>0.0</td>\n",
       "      <td>2</td>\n",
       "      <td>1644135.0</td>\n",
       "    </tr>\n",
       "    <tr>\n",
       "      <th>3</th>\n",
       "      <td>9</td>\n",
       "      <td>1</td>\n",
       "      <td>22200</td>\n",
       "      <td>1400000US09001022200</td>\n",
       "      <td>9001022200</td>\n",
       "      <td>222.0</td>\n",
       "      <td>CT</td>\n",
       "      <td>1442382</td>\n",
       "      <td>117063</td>\n",
       "      <td>POLYGON ((780699.029105046 578728.3344804952, ...</td>\n",
       "      <td>...</td>\n",
       "      <td>0.013289</td>\n",
       "      <td>0.051753</td>\n",
       "      <td>0.064533</td>\n",
       "      <td>0.000000</td>\n",
       "      <td>0.0</td>\n",
       "      <td>0.0</td>\n",
       "      <td>0.0</td>\n",
       "      <td>0.0</td>\n",
       "      <td>2</td>\n",
       "      <td>1548918.0</td>\n",
       "    </tr>\n",
       "    <tr>\n",
       "      <th>4</th>\n",
       "      <td>9</td>\n",
       "      <td>1</td>\n",
       "      <td>43100</td>\n",
       "      <td>1400000US09001043100</td>\n",
       "      <td>9001043100</td>\n",
       "      <td>431.0</td>\n",
       "      <td>CT</td>\n",
       "      <td>6652660</td>\n",
       "      <td>58522</td>\n",
       "      <td>POLYGON ((801316.652144019 604980.2196045901, ...</td>\n",
       "      <td>...</td>\n",
       "      <td>0.000000</td>\n",
       "      <td>0.001484</td>\n",
       "      <td>0.010249</td>\n",
       "      <td>0.000073</td>\n",
       "      <td>0.0</td>\n",
       "      <td>0.0</td>\n",
       "      <td>0.0</td>\n",
       "      <td>0.0</td>\n",
       "      <td>11</td>\n",
       "      <td>6698858.0</td>\n",
       "    </tr>\n",
       "  </tbody>\n",
       "</table>\n",
       "<p>5 rows × 88 columns</p>\n",
       "</div>"
      ],
      "text/plain": [
       "   STATEFP  COUNTYFP  TRACTCE              AFFGEOID       GEOID   NAME LSAD  \\\n",
       "0        9         1    11000  1400000US09001011000  9001011000  110.0   CT   \n",
       "1        9         1    20800  1400000US09001020800  9001020800  208.0   CT   \n",
       "2        9         1    21400  1400000US09001021400  9001021400  214.0   CT   \n",
       "3        9         1    22200  1400000US09001022200  9001022200  222.0   CT   \n",
       "4        9         1    43100  1400000US09001043100  9001043100  431.0   CT   \n",
       "\n",
       "     ALAND   AWATER                                           geometry  ...  \\\n",
       "0  4473567  3841130  POLYGON ((768806.438288436 564631.1307186291, ...  ...   \n",
       "1  2315472        0  POLYGON ((779750.7629708104 593331.0275135201,...  ...   \n",
       "2  1640443        0  POLYGON ((774314.4774130288 583462.5078830764,...  ...   \n",
       "3  1442382   117063  POLYGON ((780699.029105046 578728.3344804952, ...  ...   \n",
       "4  6652660    58522  POLYGON ((801316.652144019 604980.2196045901, ...  ...   \n",
       "\n",
       "         19        20        21        22    7    6    0   23 max_type  \\\n",
       "0  0.069327  0.023331  0.225616  0.000000  0.0  0.0  0.0  0.0        2   \n",
       "1  0.000000  0.012054  0.000000  0.000000  0.0  0.0  0.0  0.0       11   \n",
       "2  0.000000  0.008350  0.000000  0.000000  0.0  0.0  0.0  0.0        2   \n",
       "3  0.013289  0.051753  0.064533  0.000000  0.0  0.0  0.0  0.0        2   \n",
       "4  0.000000  0.001484  0.010249  0.000073  0.0  0.0  0.0  0.0       11   \n",
       "\n",
       "         sum  \n",
       "0  6111530.0  \n",
       "1  2317904.0  \n",
       "2  1644135.0  \n",
       "3  1548918.0  \n",
       "4  6698858.0  \n",
       "\n",
       "[5 rows x 88 columns]"
      ]
     },
     "execution_count": 4,
     "metadata": {},
     "output_type": "execute_result"
    }
   ],
   "source": [
    "# Calculate total number of pixels in each tract\n",
    "data[\"sum\"] = data.iloc[:,68:-1].sum(axis = 1)\n",
    "\n",
    "# Calculate proportion of pixels belonging to each class\n",
    "data.iloc[:,68:-2] = data.iloc[:,68:-2].div(data['sum'], axis=0)\n",
    "\n",
    "# View data\n",
    "data.head()"
   ]
  },
  {
   "cell_type": "code",
   "execution_count": 5,
   "metadata": {},
   "outputs": [],
   "source": [
    "# Separate predictors and outcome\n",
    "X = data.iloc[:,68:-2]\n",
    "y = data[\"PopDensity\"]"
   ]
  },
  {
   "cell_type": "code",
   "execution_count": 6,
   "metadata": {},
   "outputs": [],
   "source": [
    "# Fit model\n",
    "# Doing this just for the purpose of seeing what it looks like\n",
    "# We can use the results from this package to verify that our implementation is working properly\n",
    "from sklearn.linear_model import LinearRegression\n",
    "from sklearn.model_selection import train_test_split\n",
    "\n",
    "#Train and test split creation\n",
    "X_train, X_test, y_train, y_test = train_test_split(X, y, test_size=0.2, random_state=42)\n",
    "LR = LinearRegression()\n",
    "\n",
    "m = LR.fit(X_train, y_train)"
   ]
  },
  {
   "cell_type": "code",
   "execution_count": 7,
   "metadata": {},
   "outputs": [
    {
     "data": {
      "text/plain": [
       "0.7598038103782259"
      ]
     },
     "execution_count": 7,
     "metadata": {},
     "output_type": "execute_result"
    }
   ],
   "source": [
    "# R^2 value\n",
    "m.score(X, y)"
   ]
  },
  {
   "cell_type": "code",
   "execution_count": 8,
   "metadata": {},
   "outputs": [
    {
     "data": {
      "text/plain": [
       "-0.0068998956630333215"
      ]
     },
     "execution_count": 8,
     "metadata": {},
     "output_type": "execute_result"
    }
   ],
   "source": [
    "# Y-intercept\n",
    "m.intercept_"
   ]
  },
  {
   "cell_type": "code",
   "execution_count": 9,
   "metadata": {},
   "outputs": [
    {
     "data": {
      "text/plain": [
       "array([ 0.00763332,  0.00656805,  0.00707405,  0.00691324,  0.00630628,\n",
       "        0.00668552,  0.00689624,  0.00668414,  0.00136049,  0.00707437,\n",
       "        0.00699514,  0.00488618,  0.00683098,  0.00567747,  0.007384  ,\n",
       "        0.00698698,  0.00792046, -0.10987691])"
      ]
     },
     "execution_count": 9,
     "metadata": {},
     "output_type": "execute_result"
    }
   ],
   "source": [
    "# Variable coefficients\n",
    "m.coef_"
   ]
  },
  {
   "cell_type": "code",
   "execution_count": 12,
   "metadata": {},
   "outputs": [],
   "source": [
    "# Create predictions (probably should do this on a test set)\n",
    "preds = LR.predict(X_test)"
   ]
  },
  {
   "cell_type": "code",
   "execution_count": 13,
   "metadata": {},
   "outputs": [
    {
     "data": {
      "text/plain": [
       "array([-1.81472410e-05,  3.82960454e-04,  6.85736891e-05,  2.61247543e-04,\n",
       "        2.28858508e-05,  6.28477156e-05,  7.26418964e-05,  1.90007726e-04,\n",
       "        7.94679213e-06,  2.14147437e-04,  3.99318579e-05,  1.59433406e-04,\n",
       "        2.40177157e-04,  1.27930067e-04,  1.39106083e-04,  2.49341562e-04,\n",
       "        1.72371569e-04,  5.05449203e-05,  8.32804269e-05,  1.55036716e-04,\n",
       "        6.93421314e-05,  1.96069308e-04,  1.47426111e-04, -7.37178961e-05,\n",
       "        4.28725851e-05,  4.02919889e-05,  1.41676312e-05,  1.56496315e-05,\n",
       "        9.22896796e-05,  1.56988102e-04,  1.79985399e-05,  8.92853867e-05,\n",
       "        4.67938910e-04,  9.29006036e-05,  2.53912352e-04,  5.54284147e-04,\n",
       "        2.76500032e-04, -1.66155285e-06,  8.44464973e-05,  6.18934187e-05,\n",
       "        2.63547741e-04,  4.11809124e-05,  4.67261948e-04,  1.76218431e-04,\n",
       "        2.00042648e-04,  1.32455968e-04,  5.90180317e-05,  4.37028797e-04,\n",
       "        1.34149822e-05,  2.32375677e-04,  1.89978239e-04,  3.41555604e-06,\n",
       "        8.24639276e-05,  7.40434810e-05,  2.98246207e-04,  2.54817438e-04,\n",
       "        6.30659315e-05,  3.27337347e-04,  4.86816766e-06,  6.40800502e-05,\n",
       "        1.07961998e-04, -2.10208215e-07, -7.64727934e-06,  4.80670088e-04,\n",
       "        4.65437896e-05,  6.51039605e-06,  8.66470190e-05,  1.13369189e-05,\n",
       "        4.12388026e-05,  5.66750102e-04,  4.40782568e-05,  1.50123386e-05,\n",
       "        4.23104088e-05,  3.71156111e-05,  1.84913955e-04,  7.91395062e-06,\n",
       "        9.92959889e-05,  4.95579718e-06,  2.98743152e-04,  2.93413155e-04,\n",
       "        4.31761873e-05,  1.30598260e-04,  2.85394724e-05,  5.19660069e-04,\n",
       "        4.94855198e-04,  7.18636976e-05,  1.60698210e-04,  5.54101676e-04,\n",
       "        7.89642031e-05,  2.72465827e-04,  4.29650445e-04,  1.67570024e-05,\n",
       "        3.72534718e-05,  3.72899273e-04, -8.89501794e-06,  1.02128326e-05,\n",
       "        4.28445085e-05,  2.10798881e-04,  2.25524763e-06,  3.30798580e-06,\n",
       "        2.79789643e-05,  5.11913797e-04,  3.80688266e-05,  3.19706427e-04,\n",
       "        6.69598635e-05,  3.37891824e-04,  1.77522336e-04,  1.37958166e-04,\n",
       "        4.98308121e-05,  5.40880017e-05,  5.03113906e-04,  6.01563105e-05,\n",
       "        2.34053457e-04,  7.88561524e-05,  1.45594664e-04,  3.44865650e-04,\n",
       "        1.20850853e-04,  5.34345980e-05,  2.98819724e-04,  1.62543634e-04,\n",
       "        4.02734069e-05,  2.54920328e-04,  8.96705581e-05, -4.69983455e-05,\n",
       "       -2.34876889e-05,  2.14676321e-05,  8.44507235e-06,  7.31292720e-06,\n",
       "        5.98765379e-05,  2.01028228e-04,  2.32649696e-04,  2.75401670e-04,\n",
       "        7.98240776e-06,  1.29787847e-04,  3.32717951e-05,  1.16936323e-05,\n",
       "        1.34253381e-05,  3.81082622e-05,  9.46097608e-05,  1.23109608e-05,\n",
       "        8.31991485e-06,  1.33746451e-04,  1.73315671e-04,  3.11620509e-06,\n",
       "        3.29702770e-05,  2.60285497e-06,  1.51727172e-05,  1.74377072e-04,\n",
       "        1.04545853e-04,  1.12592067e-05,  3.96673605e-04,  3.30103647e-04,\n",
       "        3.53061744e-04,  1.05508327e-04,  3.11151506e-04,  2.20770746e-05,\n",
       "        1.20414313e-04,  2.21716164e-04,  4.31751886e-04,  9.91924744e-05,\n",
       "       -2.59210720e-06,  1.48034424e-05,  3.28470294e-04,  6.10319704e-04,\n",
       "        2.83447061e-04,  2.27685130e-05,  3.28271965e-04])"
      ]
     },
     "execution_count": 13,
     "metadata": {},
     "output_type": "execute_result"
    }
   ],
   "source": [
    "preds"
   ]
  },
  {
   "cell_type": "markdown",
   "metadata": {},
   "source": [
    "It would be cool to make a map of the predictions and have it next to a map of the actual values."
   ]
  },
  {
   "cell_type": "code",
   "execution_count": 21,
   "metadata": {},
   "outputs": [],
   "source": [
    "# Convert to torch tensors\n",
    "X_train = torch.tensor(X_train.values)\n",
    "y_train = torch.tensor(y_train.values)"
   ]
  },
  {
   "cell_type": "code",
   "execution_count": 23,
   "metadata": {},
   "outputs": [
    {
     "data": {
      "text/plain": [
       "tensor(8.1306e-09, dtype=torch.float64)"
      ]
     },
     "execution_count": 23,
     "metadata": {},
     "output_type": "execute_result"
    }
   ],
   "source": [
    "RR = RidgeRegression()\n",
    "RR.fit(X_train, y_train)\n",
    "RR.mse(X_train, y_train)"
   ]
  },
  {
   "cell_type": "markdown",
   "metadata": {},
   "source": [
    "# To do\n",
    "- move `combined_data.csv` to data directory\n",
    "- set raster processing cells not to run by default\n",
    "- perform cross-validation or create training and test data sets\n",
    "- maybe save data as a shp rather than a csv?"
   ]
  },
  {
   "cell_type": "markdown",
   "metadata": {},
   "source": []
  }
 ],
 "metadata": {
  "kernelspec": {
   "display_name": "ml-0451",
   "language": "python",
   "name": "python3"
  },
  "language_info": {
   "codemirror_mode": {
    "name": "ipython",
    "version": 3
   },
   "file_extension": ".py",
   "mimetype": "text/x-python",
   "name": "python",
   "nbconvert_exporter": "python",
   "pygments_lexer": "ipython3",
   "version": "3.11.7"
  }
 },
 "nbformat": 4,
 "nbformat_minor": 2
}
