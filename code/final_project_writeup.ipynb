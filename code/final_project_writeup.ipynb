{
 "cells": [
  {
   "cell_type": "markdown",
   "metadata": {},
   "source": [
    "# Predicting Population Density within US Census Tracts \n",
    "##### By: Manny Fors, Liam Smith, Alex Xu"
   ]
  },
  {
   "cell_type": "markdown",
   "metadata": {},
   "source": [
    "## Abstract\n",
    "\n",
    "\n",
    "\n"
   ]
  },
  {
   "cell_type": "markdown",
   "metadata": {},
   "source": [
    "Our project aims to tackle the challenge of inadequate census population data in underdeveloped countries, while also providing a means to forecast populations in new developments. Leveraging landcover image data and tract geometry, our approach involves computing zonal statistics and employing a regression model. Our success will be evaluated based on meeting our deliverables. However, the success of our model will be based on its accuracy, thereby offering a quantitative measure of our impact in addressing the lack of population in certain areas."
   ]
  },
  {
   "cell_type": "markdown",
   "metadata": {},
   "source": [
    "## Introduction"
   ]
  },
  {
   "cell_type": "markdown",
   "metadata": {},
   "source": [
    "***NEED REVISION*** We would like to explore how useful is remote sensing data in predicting the population. The context of our project is the state of Connecticut, USA, because this is the where we have the bext data coverage. After acquiring the land cover data for each tract by overlaying the tract shapefile with the raster land cover data and performing zonal statistic, the project first uses ordinary least square regression to build a model to predict population density using land cover. We later add penalty terms to the linear regression and assessed its improvement. Spatial pattern exists in residual map. The following section we implemented spatial autoregression model, specifically endogenous and exogenous spatial-lag regression models. Introducing the spatial dimension to regression improve the model's performance in predicting population density. "
   ]
  },
  {
   "cell_type": "markdown",
   "metadata": {},
   "source": [
    "## Values Statement"
   ]
  },
  {
   "cell_type": "markdown",
   "metadata": {},
   "source": [
    "NASA in a webinar session called “Humanitarian Applications Using NASA Earth Observations” presented how satellite remote-sensing data could be useful in monitoring humanitarian conditions at refugee settlements. Human settlements could be detected through remote sensing images and therefore could be used to predict the population in a region. This talk alerts us that we still lack necessary population data in many parts of the world, but also demonstrates how remote sensing could be a powerful tool in tackling this problem and covering the data voids. Due to limited time, we decide to investigate the connection between remote sensing land cover data and population density in a context with better data coverage. Our model can potentially benefit and guide places that lack updates on census data to develop a model to estimate population density using easier-to-acquire remote sensing data. Population census data is crucial for policymakers to understand how much necessary resources and aid a region needs. Accurate population density estimates help governments and organizations allocate resources more efficiently. Urban planners can use population density estimates to design and develop cities more effectively. Given that our context is in Connecticut, the model could be potentially used to predict population density change in newly developed suburban regions of New England."
   ]
  },
  {
   "cell_type": "markdown",
   "metadata": {},
   "source": [
    "## Materials and Methods"
   ]
  },
  {
   "cell_type": "markdown",
   "metadata": {},
   "source": [
    "**OUR DATA** ***NEED REVISION***\n",
    "\n",
    "Our first data source is 1-meter resolution landcover imagery covering the entire state of Connecticut.\n",
    "Derived from NAIP, the data has already been processed such that every pixel represents a certain class of landcover.\n",
    "At over 800 MB, the dataset is too large to share via GitHub, but you can download it yourself by clicking on the first option at [this link](https://coastalimagery.blob.core.windows.net/ccap-landcover/CCAP_bulk_download/High_Resolution_Land_Cover/Phase_2_Expanded_Categories/Legacy_Land_Cover_pre_2024/CONUS/index.html). One limitation of the land cover dataset is that it does not specify which type of im\n",
    "\n",
    "Our other data sources are the geometries and population data on the Census tract level for the state of Connecticut.\n",
    "We downloaded tract geometries directly into [our Jupyter Notebook](code/final_project.ipynb) using the Pygris package, and we downloaded the population data from Social Explorer, storing it [here](data/population.csv).\n",
    "The first step of our data preparation will be to calculate the proportion of pixels within each tract that are each landcover class.\n",
    "This type of operation is known as a Zonal Statistic in GIS, and might be a computationally expensive operation on our 800 MB image.\n",
    "We may require additional computational power to make that operation work, but we do not anticipate the rest of our work requiring more computational effort than our personal computers can handle."
   ]
  },
  {
   "cell_type": "markdown",
   "metadata": {},
   "source": [
    "c072b65e6d61b5e0dc78088242bfc3b5277daab1"
   ]
  },
  {
   "cell_type": "markdown",
   "metadata": {},
   "source": [
    "## Personal Reflection\n",
    "\n",
    "Alex: throughout the process of researching and implementing my project, I learned the background logic and the implementation of spatial autoregressive model. I was initially trying to use packages that do spatial lag regression, but found the packages not helpful enough for  train-test cross validation and model fitting. This motivates me to learn the background knowledge and mathematics of the model. The process of communicating the spatial autoregressive model to my teamates and during the presentation also improved my understanding of the model. I feel very satisfied with what we have accomplished, because the performance of the spatial lagged model is better than the OLS, as expected. We did not have enough time for the Poisson regression, which deviates from our initial goal. I would also love to add penalty term to the regression of the spatial model, but unfortunately we did not have enough time for this. What I learned from this project, especially the spatial lagged model, will contribute to future research on topics with spatial component. "
   ]
  }
 ],
 "metadata": {
  "language_info": {
   "name": "python"
  }
 },
 "nbformat": 4,
 "nbformat_minor": 2
}
